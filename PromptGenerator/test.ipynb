{
 "cells": [
  {
   "cell_type": "code",
   "execution_count": 1,
   "id": "91fe4b77",
   "metadata": {},
   "outputs": [
    {
     "name": "stderr",
     "output_type": "stream",
     "text": [
      "c:\\Users\\kachr\\AppData\\Local\\Programs\\Python\\Python311\\Lib\\site-packages\\tqdm\\auto.py:21: TqdmWarning: IProgress not found. Please update jupyter and ipywidgets. See https://ipywidgets.readthedocs.io/en/stable/user_install.html\n",
      "  from .autonotebook import tqdm as notebook_tqdm\n"
     ]
    }
   ],
   "source": [
    "import torch\n",
    "from torch.nn.utils.rnn import pad_sequence\n",
    "from transformers import AutoTokenizer, AutoModelForCausalLM"
   ]
  },
  {
   "cell_type": "code",
   "execution_count": 2,
   "id": "b096b26b",
   "metadata": {},
   "outputs": [],
   "source": [
    "def gen_prompt_from_query(\n",
    "    model,\n",
    "    tokenizer,\n",
    "    input_ids,\n",
    "    attention_mask,\n",
    "    max_new_tokens=64,\n",
    "    gen_prompt_ids=None,\n",
    "    instruction=\"Generate a concise reasoning prompt to answer the following question:\"\n",
    "):\n",
    "    with torch.no_grad():\n",
    "    # Tokenize instruction if not provided\n",
    "        if gen_prompt_ids is None:\n",
    "            gen_prompt_ids = tokenizer(\n",
    "                instruction,\n",
    "                return_tensors='pt',\n",
    "                add_special_tokens=False\n",
    "            ).input_ids.to(input_ids.device)\n",
    "        # Combine instruction and query\n",
    "        full_input_ids = torch.cat(\n",
    "            [gen_prompt_ids.repeat(input_ids.size(0), 1), input_ids], dim=1\n",
    "        )\n",
    "        full_attention_mask = torch.cat(\n",
    "            [\n",
    "                torch.ones(\n",
    "                    (input_ids.size(0), gen_prompt_ids.size(1)),\n",
    "                    dtype=attention_mask.dtype,\n",
    "                    device=input_ids.device,\n",
    "                ),\n",
    "                attention_mask,\n",
    "            ],\n",
    "            dim=1,\n",
    "        )\n",
    "\n",
    "        # Generate continuation (the self-prompt)\n",
    "        outputs = model.generate(\n",
    "            input_ids=full_input_ids,\n",
    "            attention_mask=full_attention_mask,\n",
    "            max_new_tokens=max_new_tokens,\n",
    "            do_sample=True,\n",
    "            top_k=5,\n",
    "            temperature=0.7,\n",
    "            output_scores=True,\n",
    "            return_dict_in_generate=True,\n",
    "            pad_token_id=model.config.eos_token_id,\n",
    "        )\n",
    "        # Query may be deeply embedded so we dont need to split out the query.\n",
    "        prompt_ids = outputs.sequences[:, full_input_ids.size(1):]  # Get only the generated part\n",
    "\n",
    "        return {\n",
    "            \"input_ids\": prompt_ids,\n",
    "            \"attention_mask\": torch.ones_like(prompt_ids),\n",
    "            # \"log_probs\": compute_generation_logprobs(outputs, full_input_ids.size(1)),\n",
    "            \"full_input_ids\": full_input_ids,\n",
    "        }"
   ]
  },
  {
   "cell_type": "code",
   "execution_count": 3,
   "id": "93538222",
   "metadata": {},
   "outputs": [],
   "source": [
    "model_name = 'Qwen/Qwen2-7B-Instruct'"
   ]
  },
  {
   "cell_type": "code",
   "execution_count": 4,
   "id": "e956e15d",
   "metadata": {},
   "outputs": [],
   "source": [
    "tokenizer = AutoTokenizer.from_pretrained(model_name)\n",
    "tokenizer.pad_token = tokenizer.eos_token"
   ]
  },
  {
   "cell_type": "code",
   "execution_count": 5,
   "id": "64f88859",
   "metadata": {},
   "outputs": [
    {
     "name": "stderr",
     "output_type": "stream",
     "text": [
      "Loading checkpoint shards: 100%|██████████| 4/4 [00:00<00:00,  6.64it/s]\n"
     ]
    }
   ],
   "source": [
    "model = AutoModelForCausalLM.from_pretrained(model_name, torch_dtype=torch.bfloat16)"
   ]
  },
  {
   "cell_type": "code",
   "execution_count": 6,
   "id": "16b18fef",
   "metadata": {},
   "outputs": [],
   "source": [
    "strategies = [\n",
    "    'Supportive Stepwise Guidance',\n",
    "    'Define, List, and Exemplify',\n",
    "    'Stepwise Procedural Guide',\n",
    "    'Enumerate Assistance Methods',\n",
    "    'Intro Then List',\n",
    "    'Sequential Explanation with Contrast',\n",
    "    'Intro + Thematic List with Explanations',\n",
    "    'Structured Reflective Statement',\n",
    "    \"List, Reasoning, Answer\"\n",
    "]"
   ]
  },
  {
   "cell_type": "code",
   "execution_count": null,
   "id": "a0aaecae",
   "metadata": {},
   "outputs": [],
   "source": [
    "prompt_list = [\n",
    "    \"Generate a prompt using '{strategy}' without any extra output. Only write the prompt encoding the question: \",\n",
    "    \"Generate a prompt using the '{strategy}' format to guide a low-capability agent in solving a problem step-by-step without revealing the answer. You must ONLY output the prompt. If you include anything other than the prompt, or if the prompt contains the answer, your response will be considered invalid and rejected.\",\n",
    "    \"Write a prompt using '{strategy}' that instructs a weaker agent to solve the problem step-by-step without giving the answer. Output only the prompt text—no explanations, no extra content.\",\n",
    "    \"Using '{strategy}', create a prompt that helps a low-skill agent work through the problem in steps. Do not provide the solution or anything except the prompt itself.\",\n",
    "    \"Construct a prompt in the '{strategy}' style that outlines a step-by-step method for a less-capable agent to follow. The prompt must not contain the answer and must be the only output.\",\n",
    "    \"Produce a '{strategy}' prompt designed to guide a minimal-capability agent through solving the problem step-by-step. Absolutely no answers or extra commentary—output the prompt alone.\",\n",
    "    \"Generate only the prompt in '{strategy}' style to teach a low-level agent how to approach the problem in steps. If any answer or additional text appears, the output is invalid.\"\n",
    "\n",
    "]"
   ]
  },
  {
   "cell_type": "code",
   "execution_count": null,
   "id": "df919685",
   "metadata": {},
   "outputs": [],
   "source": [
    "query = \"why is 49 a prime number?\""
   ]
  },
  {
   "cell_type": "code",
   "execution_count": 8,
   "id": "0de9d683",
   "metadata": {},
   "outputs": [],
   "source": [
    "query = tokenizer(\n",
    "    query,\n",
    "    return_tensors='pt',\n",
    "    add_special_tokens=False\n",
    ").to(model.device)\n"
   ]
  },
  {
   "cell_type": "code",
   "execution_count": null,
   "id": "d329e80f",
   "metadata": {},
   "outputs": [],
   "source": [
    "pairs = [\n",
    "    (strategy, prompt) for prompt in prompt_list for strategy in strategies\n",
    "]"
   ]
  },
  {
   "cell_type": "code",
   "execution_count": null,
   "id": "3842a447",
   "metadata": {},
   "outputs": [],
   "source": [
    "out = [\n",
    "    gen_prompt_from_query(\n",
    "                            model, \n",
    "                            tokenizer, \n",
    "                            query['input_ids'], \n",
    "                            query['attention_mask'], \n",
    "                            max_new_tokens=256, \n",
    "                            instruction=prompt_inst.format(strategy=strat)\n",
    "                        ) \n",
    "    for strat,prompt_inst in pairs\n",
    "]"
   ]
  },
  {
   "cell_type": "code",
   "execution_count": 10,
   "id": "4546e102",
   "metadata": {},
   "outputs": [],
   "source": [
    "def batch_prompts(prompts, pad_token_id):\n",
    "    # prompts is a list of dicts returned by gen_prompt_from_query\n",
    "    input_ids_list = [p['input_ids'].squeeze(0) for p in prompts]\n",
    "    attn_mask_list = [p['attention_mask'].squeeze(0) for p in prompts]\n",
    "\n",
    "    # pad_sequence will pad to the longest sequence in the batch\n",
    "    input_ids = pad_sequence(input_ids_list, batch_first=True, padding_value=pad_token_id)\n",
    "    attn_mask = pad_sequence(attn_mask_list, batch_first=True, padding_value=0)\n",
    "\n",
    "    return {\"input_ids\": input_ids, \"attention_mask\": attn_mask}"
   ]
  },
  {
   "cell_type": "code",
   "execution_count": 12,
   "id": "d7e6316e",
   "metadata": {},
   "outputs": [],
   "source": [
    "new_out = batch_prompts(out,tokenizer.pad_token_id)"
   ]
  },
  {
   "cell_type": "code",
   "execution_count": 13,
   "id": "7a1a4d05",
   "metadata": {},
   "outputs": [
    {
     "data": {
      "text/plain": [
       "{'input_ids': tensor([[ 59501,     25,  81917,  ..., 151645, 151645, 151645],\n",
       "         [ 18614,  10250,   5109,  ..., 151645, 151645, 151645],\n",
       "         [ 14822,   4482,   1298,  ..., 151645, 151645, 151645],\n",
       "         ...,\n",
       "         [   715,  61569,     25,  ...,   3476,    304,   5257],\n",
       "         [  4710,  54615,     25,  ...,    323,   8357,     13],\n",
       "         [  1759,     25,    715,  ..., 151645, 151645, 151645]]),\n",
       " 'attention_mask': tensor([[1, 1, 1,  ..., 0, 0, 0],\n",
       "         [1, 1, 1,  ..., 0, 0, 0],\n",
       "         [1, 1, 1,  ..., 0, 0, 0],\n",
       "         ...,\n",
       "         [1, 1, 1,  ..., 1, 1, 1],\n",
       "         [1, 1, 1,  ..., 1, 1, 1],\n",
       "         [1, 1, 1,  ..., 0, 0, 0]])}"
      ]
     },
     "execution_count": 13,
     "metadata": {},
     "output_type": "execute_result"
    }
   ],
   "source": [
    "new_out"
   ]
  },
  {
   "cell_type": "code",
   "execution_count": null,
   "id": "4e2c5e3a",
   "metadata": {},
   "outputs": [],
   "source": [
    "prompt = [tokenizer.decode(new_out['input_ids'][i], skip_special_tokens=True) for i in range(len(pairs))]"
   ]
  },
  {
   "cell_type": "code",
   "execution_count": 17,
   "id": "e4aa7b08",
   "metadata": {},
   "outputs": [
    {
     "name": "stdout",
     "output_type": "stream",
     "text": [
      "9\n"
     ]
    }
   ],
   "source": [
    "print(len(prompt))"
   ]
  },
  {
   "cell_type": "code",
   "execution_count": 18,
   "id": "6cb4e1f3",
   "metadata": {},
   "outputs": [
    {
     "name": "stdout",
     "output_type": "stream",
     "text": [
      "Strategy: 'Supportive Stepwise Guidance'\n",
      "Prompt: ' Prompt: Explain why the number 49 is not considered a prime number, detailing the factors of 49 and how they relate to the definition of a prime number.'\n",
      "----------------------------------------\n",
      "Strategy: 'Define, List, and Exemplify'\n",
      "Prompt: ' Define prime numbers.\n",
      "List the criteria for a number to be considered prime.\n",
      "Exemplify why 49 does not meet these criteria and therefore is not a prime number. Why is 49 not considered a prime number? Provide a definition of prime numbers, list the criteria for a number to be considered prime, and give an example of how 49 fails to meet these criteria, demonstrating its non-prime status.'\n",
      "----------------------------------------\n",
      "Strategy: 'Stepwise Procedural Guide'\n",
      "Prompt: ' Stepwise Procedural Guide:\n",
      "1. Define what a prime number is.\n",
      "2. List the factors of 49.\n",
      "3. Determine if there are any factors other than 1 and 49.\n",
      "4. Explain why the absence of such factors makes 49 not a prime number.\n",
      "\n",
      "Prompt: \n",
      "\n",
      "Why is 49 not considered a prime number?\n",
      "\n",
      "Instructions:\n",
      "\n",
      "1. Start by defining what a prime number is, emphasizing that it is a number greater than 1 that has no positive divisors other than 1 and itself.\n",
      "\n",
      "2. Next, list all the factors of 49, including both positive and negative numbers, to understand its divisibility.\n",
      "\n",
      "3. After identifying the factors, check if there are any factors of 49 other than 1 and 49 itself. If so, note these factors.\n",
      "\n",
      "4. Finally, explain why the presence of factors other than 1 and 49 (if found) disqualifies 49 from being classified as a prime number according to the definition provided in step 1. Highlight the contradiction between having additional factors and the prime number criteria.'\n",
      "----------------------------------------\n",
      "Strategy: 'Enumerate Assistance Methods'\n",
      "Prompt: ' Here are some assistance methods you can use to answer the question \"Why is 49 a prime number?\":\n",
      "\n",
      "1. Understand the definition of a prime number.\n",
      "2. Check if 49 is divisible by any number other than 1 and itself.\n",
      "3. Analyze the factors of 49.\n",
      "4. Consider the properties of numbers around 49.\n",
      "5. Explore patterns or rules related to prime numbers.\n",
      "6. Use mathematical reasoning to eliminate possible divisors.\n",
      "7. Verify your conclusion with additional examples or resources.\n",
      "\n",
      "Please provide your explanation based on these assistance methods.'\n",
      "----------------------------------------\n",
      "Strategy: 'Intro Then List'\n",
      "Prompt: ' \n",
      "\n",
      "Intro: Understanding Prime Numbers\n",
      "List:\n",
      "- Definition of prime numbers\n",
      "- Characteristics of prime numbers\n",
      "- Explanation why 49 is not a prime number\n",
      "\n",
      "Why is 49 not considered a prime number?'\n",
      "----------------------------------------\n",
      "Strategy: 'Sequential Explanation with Contrast'\n",
      "Prompt: ' To understand why 49 is not a prime number, let's first recall the definition of a prime number. A prime number is a natural number greater than 1 that has no positive divisors other than 1 and itself. Now, consider the number 49. Although it might seem like a prime number at first glance due to its relatively small size, can you identify any factors of 49 other than 1 and itself, thereby demonstrating that 49 does not meet the criteria for being a prime number?'\n",
      "----------------------------------------\n",
      "Strategy: 'Intro + Thematic List with Explanations'\n",
      "Prompt: ' \n",
      "Intro: The concept of prime numbers has fascinated mathematicians for centuries, with their unique properties and patterns providing insights into the nature of numbers. Among the many intriguing aspects of prime numbers, one question that often arises is why certain numbers are considered prime while others are not. Let's explore this question in more detail by examining the case of the number 49.\n",
      "Thematic List with Explanations:\n",
      "- Definition of Prime Numbers: A prime number is a positive integer greater than 1 that has no positive integer divisors other than 1 and itself. This means that prime numbers can only be divided evenly by 1 and themselves.\n",
      "- Why 49 is Not Prime: To determine if 49 is a prime number, we need to check if it has any divisors other than 1 and itself. In this case, 49 can be divided evenly by 7 (49 ÷ 7 = 7), which means it is not a prime number.\n",
      "- Factors of 49: The factors of 49 are 1, 7, and 49. Since it has more than two factors, it cannot be classified as a prime number.\n",
      "- Importance of Prime Numbers: Prime numbers play a crucial role in various'\n",
      "----------------------------------------\n",
      "Strategy: 'Structured Reflective Statement'\n",
      "Prompt: ' \n",
      "\n",
      "Prompt: In your structured reflective statement, explain why the number 49 is not considered a prime number and identify the specific property or rule that disqualifies it from being classified as such in the realm of number theory. Additionally, discuss the implications of this classification on the understanding of prime numbers and their role in mathematical concepts. Structured Reflective Statement:\n",
      "I have analyzed the number 49 in relation to its classification within the realm of prime numbers. Upon examination, I have determined that 49 is not a prime number due to its adherence to the definition of a composite number. A prime number is defined as a natural number greater than 1 that has no positive divisors other than 1 and itself. In contrast, 49 can be divided evenly by 1, 7, and 49, thus violating the criteria for primality. This classification highlights the importance of understanding the fundamental properties of numbers and the distinction between prime and composite numbers. The concept of prime numbers plays a crucial role in various mathematical fields, including cryptography, where their unique properties are leveraged for secure communication. Recognizing that 49 is not a prime number reinforces the significance of adhering to precise definitions and rules in mathematics to ensure accurate conclusions and applications.'\n",
      "----------------------------------------\n",
      "Strategy: 'List, Reasoning, Answer'\n",
      "Prompt: ' List: \n",
      "1. Prime numbers are defined as natural numbers greater than 1 that have no positive divisors other than 1 and themselves.\n",
      "2. 49 can be divided evenly by 1, 7, and 49.\n",
      "3. The number 49 can also be expressed as 7 squared (7^2).\n",
      "\n",
      "Reasoning:\n",
      "- To determine if 49 is a prime number, we must consider the definition of prime numbers and apply it to the given number.\n",
      "\n",
      "Answer:\n",
      "Given the list of information provided, 49 is not a prime number because it has more than two positive divisors (1, 7, and 49). Additionally, since 49 can be expressed as 7 squared (7^2), this further indicates that it is divisible by numbers other than 1 and itself, disqualifying it from being classified as a prime number.'\n",
      "----------------------------------------\n"
     ]
    }
   ],
   "source": [
    "for strat, prompt_txt in zip(strategies, prompt):\n",
    "    print(f\"Strategy: '{strat}'\\nPrompt: '{prompt_txt}'\\n{'-'*40}\")"
   ]
  },
  {
   "cell_type": "code",
   "execution_count": 1,
   "id": "3f4c3284",
   "metadata": {},
   "outputs": [],
   "source": [
    "strategies = [\n",
    "    'Supportive Stepwise Guidance',\n",
    "    'Stepwise Procedural Guide',\n",
    "    'Define, List, and Exemplify',\n",
    "    'Enumerate Assistance Methods',\n",
    "]\n",
    "prompt_list = [\n",
    "    \"Generate a prompt using the '{strategy}' format to guide a low-capability agent in solving a problem step-by-step without revealing the answer. You must ONLY output the prompt. If you include anything other than the prompt, or if the prompt contains the answer, your response will be considered invalid and rejected.\",\n",
    "    \"Using '{strategy}', create a prompt that helps a low-skill agent work through the problem in steps. Do not provide the solution or anything except the prompt itself.\",\n",
    "]"
   ]
  },
  {
   "cell_type": "code",
   "execution_count": 2,
   "id": "f42f89a4",
   "metadata": {},
   "outputs": [],
   "source": [
    "query_set = {\n",
    "    \"math_reasoning\": [\n",
    "        \"Determine whether 121 is a prime number.\",\n",
    "        \"Find the area of a triangle with base 8 cm and height 5 cm.\",\n",
    "        \"If a train travels 60 km in 1.5 hours, what is its average speed?\"\n",
    "    ],\n",
    "    \"general_knowledge\": [\n",
    "        \"Who wrote the play 'Romeo and Juliet'?\",\n",
    "        \"What is the capital city of Canada?\",\n",
    "        \"Name three countries that share a border with Germany.\"\n",
    "    ],\n",
    "    \"commonsense_reasoning\": [\n",
    "        \"If you leave ice cubes out in the sun, what will happen after 10 minutes?\",\n",
    "        \"Why should you not touch an electrical socket with wet hands?\",\n",
    "        \"If it is raining outside, what might people carry with them?\"\n",
    "    ],\n",
    "    \"procedural_tasks\": [\n",
    "        \"Explain how to change a flat bicycle tire.\",\n",
    "        \"Give step-by-step instructions to bake a chocolate cake.\",\n",
    "        \"Describe the process of renewing a passport.\"\n",
    "    ],\n",
    "    \"creative_generation\": [\n",
    "        \"Write the opening sentence of a mystery novel set in a small fishing village.\",\n",
    "        \"Invent a new sport and explain how it is played.\",\n",
    "        \"Create a tagline for a company selling eco-friendly shoes.\"\n",
    "    ],\n",
    "    \"classification_identification\": [\n",
    "        \"Decide whether this email is spam: 'Congratulations! You’ve won a $1000 gift card. Click here to claim.'\",\n",
    "        \"Classify the tone of this sentence: 'I can't believe you did that!'\",\n",
    "        \"Identify whether the following sentence is fact or opinion: 'Chocolate ice cream is the best flavor.'\"\n",
    "    ],\n",
    "    \"multi_step_logic\": [\n",
    "        \"You have 3 red balls and 2 blue balls in a bag. If you take two balls without looking, what is the probability they are both red?\",\n",
    "        \"Solve this riddle: 'I speak without a mouth and hear without ears. I have no body, but I come alive with wind. What am I?'\",\n",
    "        \"If Alice is older than Bob, and Bob is older than Carol, who is the youngest?\"\n",
    "    ]\n",
    "}\n"
   ]
  },
  {
   "cell_type": "code",
   "execution_count": null,
   "id": "5c629f9e",
   "metadata": {},
   "outputs": [],
   "source": [
    "pairs = {\n",
    "    k: [ \n",
    "        (\n",
    "            strategy, \n",
    "            prompt, \n",
    "            q,\n",
    "            # tokenizer(\n",
    "            #     q,\n",
    "            #     return_tensors='pt',\n",
    "            #     add_special_tokens=False\n",
    "            # ).to(model.device)\n",
    "        ) \n",
    "        for prompt in prompt_list for strategy in strategies for q in queries\n",
    "    ] \n",
    "    for k,queries in query_set.items() \n",
    "}"
   ]
  },
  {
   "cell_type": "code",
   "execution_count": 10,
   "id": "0cd63637",
   "metadata": {},
   "outputs": [
    {
     "name": "stdout",
     "output_type": "stream",
     "text": [
      "Determine whether 121 is a prime number. Find the area of a triangle with base 8 cm and height 5 cm. If a train travels 60 km in 1.5 hours, what is its average speed? Determine whether 121 is a prime number. Find the area of a triangle with base 8 cm and height 5 cm. If a train travels 60 km in 1.5 hours, what is its average speed? Determine whether 121 is a prime number. Find the area of a triangle with base 8 cm and height 5 cm. If a train travels 60 km in 1.5 hours, what is its average speed? Determine whether 121 is a prime number. Find the area of a triangle with base 8 cm and height 5 cm. If a train travels 60 km in 1.5 hours, what is its average speed? Determine whether 121 is a prime number. Find the area of a triangle with base 8 cm and height 5 cm. If a train travels 60 km in 1.5 hours, what is its average speed? Determine whether 121 is a prime number. Find the area of a triangle with base 8 cm and height 5 cm. If a train travels 60 km in 1.5 hours, what is its average speed? Determine whether 121 is a prime number. Find the area of a triangle with base 8 cm and height 5 cm. If a train travels 60 km in 1.5 hours, what is its average speed? Determine whether 121 is a prime number. Find the area of a triangle with base 8 cm and height 5 cm. If a train travels 60 km in 1.5 hours, what is its average speed? Who wrote the play 'Romeo and Juliet'? What is the capital city of Canada? Name three countries that share a border with Germany. Who wrote the play 'Romeo and Juliet'? What is the capital city of Canada? Name three countries that share a border with Germany. Who wrote the play 'Romeo and Juliet'? What is the capital city of Canada? Name three countries that share a border with Germany. Who wrote the play 'Romeo and Juliet'? What is the capital city of Canada? Name three countries that share a border with Germany. Who wrote the play 'Romeo and Juliet'? What is the capital city of Canada? Name three countries that share a border with Germany. Who wrote the play 'Romeo and Juliet'? What is the capital city of Canada? Name three countries that share a border with Germany. Who wrote the play 'Romeo and Juliet'? What is the capital city of Canada? Name three countries that share a border with Germany. Who wrote the play 'Romeo and Juliet'? What is the capital city of Canada? Name three countries that share a border with Germany. If you leave ice cubes out in the sun, what will happen after 10 minutes? Why should you not touch an electrical socket with wet hands? If it is raining outside, what might people carry with them? If you leave ice cubes out in the sun, what will happen after 10 minutes? Why should you not touch an electrical socket with wet hands? If it is raining outside, what might people carry with them? If you leave ice cubes out in the sun, what will happen after 10 minutes? Why should you not touch an electrical socket with wet hands? If it is raining outside, what might people carry with them? If you leave ice cubes out in the sun, what will happen after 10 minutes? Why should you not touch an electrical socket with wet hands? If it is raining outside, what might people carry with them? If you leave ice cubes out in the sun, what will happen after 10 minutes? Why should you not touch an electrical socket with wet hands? If it is raining outside, what might people carry with them? If you leave ice cubes out in the sun, what will happen after 10 minutes? Why should you not touch an electrical socket with wet hands? If it is raining outside, what might people carry with them? If you leave ice cubes out in the sun, what will happen after 10 minutes? Why should you not touch an electrical socket with wet hands? If it is raining outside, what might people carry with them? If you leave ice cubes out in the sun, what will happen after 10 minutes? Why should you not touch an electrical socket with wet hands? If it is raining outside, what might people carry with them? Explain how to change a flat bicycle tire. Give step-by-step instructions to bake a chocolate cake. Describe the process of renewing a passport. Explain how to change a flat bicycle tire. Give step-by-step instructions to bake a chocolate cake. Describe the process of renewing a passport. Explain how to change a flat bicycle tire. Give step-by-step instructions to bake a chocolate cake. Describe the process of renewing a passport. Explain how to change a flat bicycle tire. Give step-by-step instructions to bake a chocolate cake. Describe the process of renewing a passport. Explain how to change a flat bicycle tire. Give step-by-step instructions to bake a chocolate cake. Describe the process of renewing a passport. Explain how to change a flat bicycle tire. Give step-by-step instructions to bake a chocolate cake. Describe the process of renewing a passport. Explain how to change a flat bicycle tire. Give step-by-step instructions to bake a chocolate cake. Describe the process of renewing a passport. Explain how to change a flat bicycle tire. Give step-by-step instructions to bake a chocolate cake. Describe the process of renewing a passport. Write the opening sentence of a mystery novel set in a small fishing village. Invent a new sport and explain how it is played. Create a tagline for a company selling eco-friendly shoes. Write the opening sentence of a mystery novel set in a small fishing village. Invent a new sport and explain how it is played. Create a tagline for a company selling eco-friendly shoes. Write the opening sentence of a mystery novel set in a small fishing village. Invent a new sport and explain how it is played. Create a tagline for a company selling eco-friendly shoes. Write the opening sentence of a mystery novel set in a small fishing village. Invent a new sport and explain how it is played. Create a tagline for a company selling eco-friendly shoes. Write the opening sentence of a mystery novel set in a small fishing village. Invent a new sport and explain how it is played. Create a tagline for a company selling eco-friendly shoes. Write the opening sentence of a mystery novel set in a small fishing village. Invent a new sport and explain how it is played. Create a tagline for a company selling eco-friendly shoes. Write the opening sentence of a mystery novel set in a small fishing village. Invent a new sport and explain how it is played. Create a tagline for a company selling eco-friendly shoes. Write the opening sentence of a mystery novel set in a small fishing village. Invent a new sport and explain how it is played. Create a tagline for a company selling eco-friendly shoes. Decide whether this email is spam: 'Congratulations! You’ve won a $1000 gift card. Click here to claim.' Classify the tone of this sentence: 'I can't believe you did that!' Identify whether the following sentence is fact or opinion: 'Chocolate ice cream is the best flavor.' Decide whether this email is spam: 'Congratulations! You’ve won a $1000 gift card. Click here to claim.' Classify the tone of this sentence: 'I can't believe you did that!' Identify whether the following sentence is fact or opinion: 'Chocolate ice cream is the best flavor.' Decide whether this email is spam: 'Congratulations! You’ve won a $1000 gift card. Click here to claim.' Classify the tone of this sentence: 'I can't believe you did that!' Identify whether the following sentence is fact or opinion: 'Chocolate ice cream is the best flavor.' Decide whether this email is spam: 'Congratulations! You’ve won a $1000 gift card. Click here to claim.' Classify the tone of this sentence: 'I can't believe you did that!' Identify whether the following sentence is fact or opinion: 'Chocolate ice cream is the best flavor.' Decide whether this email is spam: 'Congratulations! You’ve won a $1000 gift card. Click here to claim.' Classify the tone of this sentence: 'I can't believe you did that!' Identify whether the following sentence is fact or opinion: 'Chocolate ice cream is the best flavor.' Decide whether this email is spam: 'Congratulations! You’ve won a $1000 gift card. Click here to claim.' Classify the tone of this sentence: 'I can't believe you did that!' Identify whether the following sentence is fact or opinion: 'Chocolate ice cream is the best flavor.' Decide whether this email is spam: 'Congratulations! You’ve won a $1000 gift card. Click here to claim.' Classify the tone of this sentence: 'I can't believe you did that!' Identify whether the following sentence is fact or opinion: 'Chocolate ice cream is the best flavor.' Decide whether this email is spam: 'Congratulations! You’ve won a $1000 gift card. Click here to claim.' Classify the tone of this sentence: 'I can't believe you did that!' Identify whether the following sentence is fact or opinion: 'Chocolate ice cream is the best flavor.' You have 3 red balls and 2 blue balls in a bag. If you take two balls without looking, what is the probability they are both red? Solve this riddle: 'I speak without a mouth and hear without ears. I have no body, but I come alive with wind. What am I?' If Alice is older than Bob, and Bob is older than Carol, who is the youngest? You have 3 red balls and 2 blue balls in a bag. If you take two balls without looking, what is the probability they are both red? Solve this riddle: 'I speak without a mouth and hear without ears. I have no body, but I come alive with wind. What am I?' If Alice is older than Bob, and Bob is older than Carol, who is the youngest? You have 3 red balls and 2 blue balls in a bag. If you take two balls without looking, what is the probability they are both red? Solve this riddle: 'I speak without a mouth and hear without ears. I have no body, but I come alive with wind. What am I?' If Alice is older than Bob, and Bob is older than Carol, who is the youngest? You have 3 red balls and 2 blue balls in a bag. If you take two balls without looking, what is the probability they are both red? Solve this riddle: 'I speak without a mouth and hear without ears. I have no body, but I come alive with wind. What am I?' If Alice is older than Bob, and Bob is older than Carol, who is the youngest? You have 3 red balls and 2 blue balls in a bag. If you take two balls without looking, what is the probability they are both red? Solve this riddle: 'I speak without a mouth and hear without ears. I have no body, but I come alive with wind. What am I?' If Alice is older than Bob, and Bob is older than Carol, who is the youngest? You have 3 red balls and 2 blue balls in a bag. If you take two balls without looking, what is the probability they are both red? Solve this riddle: 'I speak without a mouth and hear without ears. I have no body, but I come alive with wind. What am I?' If Alice is older than Bob, and Bob is older than Carol, who is the youngest? You have 3 red balls and 2 blue balls in a bag. If you take two balls without looking, what is the probability they are both red? Solve this riddle: 'I speak without a mouth and hear without ears. I have no body, but I come alive with wind. What am I?' If Alice is older than Bob, and Bob is older than Carol, who is the youngest? You have 3 red balls and 2 blue balls in a bag. If you take two balls without looking, what is the probability they are both red? Solve this riddle: 'I speak without a mouth and hear without ears. I have no body, but I come alive with wind. What am I?' If Alice is older than Bob, and Bob is older than Carol, who is the youngest?\n"
     ]
    }
   ],
   "source": [
    "print(*( q for k,x in pairs.items() for s,p,q in x ))"
   ]
  },
  {
   "cell_type": "code",
   "execution_count": null,
   "id": "b8b4ff75",
   "metadata": {},
   "outputs": [],
   "source": [
    "out = [\n",
    "    gen_prompt_from_query(\n",
    "                            model, \n",
    "                            tokenizer, \n",
    "                            query['input_ids'], \n",
    "                            query['attention_mask'], \n",
    "                            max_new_tokens=256, \n",
    "                            instruction=prompt_inst.format(strategy=strat)\n",
    "                        ) \n",
    "    for k,vals in pairs.items() for strat,prompt_inst,query in vals \n",
    "]"
   ]
  },
  {
   "cell_type": "code",
   "execution_count": null,
   "id": "50f5e3a6",
   "metadata": {},
   "outputs": [],
   "source": []
  }
 ],
 "metadata": {
  "kernelspec": {
   "display_name": "Python 3",
   "language": "python",
   "name": "python3"
  },
  "language_info": {
   "codemirror_mode": {
    "name": "ipython",
    "version": 3
   },
   "file_extension": ".py",
   "mimetype": "text/x-python",
   "name": "python",
   "nbconvert_exporter": "python",
   "pygments_lexer": "ipython3",
   "version": "3.11.3"
  }
 },
 "nbformat": 4,
 "nbformat_minor": 5
}
